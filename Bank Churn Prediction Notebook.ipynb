{
 "cells": [
  {
   "cell_type": "code",
   "execution_count": null,
   "metadata": {},
   "outputs": [],
   "source": [
    "import pandas as pd\n",
    "import numpy as np\n",
    "import matplotlib.pyplot\n",
    "\n",
    "import plotly.express as ex\n",
    "import plotly.graph_objs as go\n",
    "from plotly.subplots import make_subplots\n",
    "import plotly.offline as pyo\n",
    "\n",
    "import seaborn as sns\n",
    "\n",
    "from sklearn.preprocessing import StandardScaler\n",
    "from sklearn.svm import SVC\n",
    "from sklearn.decomposition import PCA\n",
    "from sklearn.metrics import confusion_matrix\n",
    "from sklearn.metrics import f1_score as f1\n",
    "from sklearn.pipeline import Pipeline\n",
    "from sklearn.ensemble import RandomForestClassifier, AdaBoostClassifier\n",
    "from sklearn.model_selection import train_test_split, cross_val_score\n",
    "import scikitplot as skplt\n",
    "\n",
    "from category_encoders import OrdinalEncoder\n",
    "\n",
    "from imblearn.over_sampling import SMOTE\n"
   ]
  },
  {
   "cell_type": "markdown",
   "metadata": {},
   "source": [
    "## Data Exploration "
   ]
  },
  {
   "cell_type": "code",
   "execution_count": null,
   "metadata": {},
   "outputs": [],
   "source": [
    "data=pd.read_csv('bankdata.csv')\n",
    "\n",
    "# Remove last 2 columns from the dataset.\n",
    "data=data[data.columns[:-2]]\n",
    "data.head()"
   ]
  },
  {
   "cell_type": "code",
   "execution_count": null,
   "metadata": {},
   "outputs": [],
   "source": [
    "data.dtypes"
   ]
  },
  {
   "cell_type": "markdown",
   "metadata": {},
   "source": [
    "### Boxplots"
   ]
  },
  {
   "cell_type": "code",
   "execution_count": null,
   "metadata": {},
   "outputs": [],
   "source": [
    "fig=make_subplots(rows=6,cols=1)\n",
    "# Age boxplot \n",
    "a1=go.Box(x=data['Customer_Age'],name=\"Age Boxplot\", boxmean=True)\n",
    "fig.add_trace(a1,row=1,col=1)\n",
    "\n",
    "# Dependent count\n",
    "a2=go.Box(x=data['Dependent_count'],name=\"Dependents Boxplot\", boxmean=True)\n",
    "fig.add_trace(a2,row=2,col=1)\n",
    "\n",
    "a3=go.Box(x=data['Months_on_book'],name=\"Months on Book Boxplot\", boxmean=True)\n",
    "fig.add_trace(a3,row=3,col=1)\n",
    "\n",
    "a4=go.Box(x=data['Total_Relationship_Count'],name=\"Total Products Boxplot\", boxmean=True)\n",
    "fig.add_trace(a4,row=4,col=1)\n",
    "\n",
    "a5=go.Box(x=data['Months_Inactive_12_mon'],name=\"Number of Months Inactive Boxplot\", boxmean=True)\n",
    "fig.add_trace(a5,row=5,col=1)\n",
    "\n",
    "a6=go.Box(x=data['Credit_Limit'],name=\"Credit Limit Boxplot\", boxmean=True)\n",
    "fig.add_trace(a6,row=6,col=1)\n",
    "\n",
    "\n",
    "\n",
    "\n",
    "fig.show()"
   ]
  },
  {
   "cell_type": "markdown",
   "metadata": {},
   "source": [
    "### Histograms"
   ]
  },
  {
   "cell_type": "code",
   "execution_count": null,
   "metadata": {},
   "outputs": [],
   "source": [
    "data.loc[:,('Customer_Age','Dependent_count','Months_on_book','Total_Relationship_Count','Months_Inactive_12_mon','Credit_Limit')].hist(color='k',alpha=0.5,bins=10)"
   ]
  },
  {
   "cell_type": "markdown",
   "metadata": {},
   "source": [
    "### Piecharts"
   ]
  },
  {
   "cell_type": "code",
   "execution_count": null,
   "metadata": {},
   "outputs": [],
   "source": [
    "# Education Levels\n",
    "ex.pie(data,names='Education_Level',title='Propotion Of Education Levels',hole=0.33)\n"
   ]
  },
  {
   "cell_type": "code",
   "execution_count": null,
   "metadata": {},
   "outputs": [],
   "source": [
    "#Marriage status\n",
    "ex.pie(data,names='Marital_Status',title='Propotion Of Different Marriage Statuses',hole=0.33)"
   ]
  },
  {
   "cell_type": "code",
   "execution_count": null,
   "metadata": {},
   "outputs": [],
   "source": [
    "# Income Levels\n",
    "ex.pie(data,names='Income_Category',title='Propotion Of Different Income Levels',hole=0.33)"
   ]
  },
  {
   "cell_type": "code",
   "execution_count": null,
   "metadata": {},
   "outputs": [],
   "source": [
    "# Card Categories\n",
    "ex.pie(data,names='Card_Category',title='Propotion Of Different Card Categories',hole=0.33)"
   ]
  },
  {
   "cell_type": "code",
   "execution_count": null,
   "metadata": {},
   "outputs": [],
   "source": [
    "# Customer Statuses\n",
    "ex.pie(data,names='Attrition_Flag',title='Proportion of Churn vs Not-Churn Customers',hole=0.33)"
   ]
  },
  {
   "cell_type": "markdown",
   "metadata": {},
   "source": [
    "## Data Preprocessing "
   ]
  },
  {
   "cell_type": "code",
   "execution_count": null,
   "metadata": {},
   "outputs": [],
   "source": [
    "data_he=pd.get_dummies(data,columns=['Education_Level','Income_Category','Marital_Status','Card_Category'], drop_first=True)\n",
    "data_he.Gender=data_he.Gender.replace({'F':1, 'M':0})\n",
    "data_he.Attrition_Flag=data_he.Attrition_Flag.replace({'Attrited Customer':1, 'Existing Customer':0})\n",
    "data_he.drop(columns='CLIENTNUM')\n",
    "data_he.head(5)"
   ]
  },
  {
   "cell_type": "markdown",
   "metadata": {},
   "source": [
    "## Data Unsampling using SMOTE"
   ]
  },
  {
   "cell_type": "code",
   "execution_count": null,
   "metadata": {},
   "outputs": [],
   "source": [
    "oversample=SMOTE()\n",
    "X,y=oversample.fit_resample(data_he[data_he.columns[1:]],data_he[data_he.columns[0]])\n",
    "data_sampled=X.assign(Churn=y)\n",
    "\n",
    "data_s=data_sampled[data_sampled.columns[15:-1]].copy()\n",
    "data_sampled=data_sampled.drop(columns=data_sampled.columns[15:-1])"
   ]
  },
  {
   "cell_type": "code",
   "execution_count": null,
   "metadata": {},
   "outputs": [],
   "source": [
    "N_COMPONENTS = 4\n",
    "\n",
    "pca_model = PCA(n_components = N_COMPONENTS )\n",
    "\n",
    "pc_matrix = pca_model.fit_transform(data_s)\n",
    "\n",
    "evr = pca_model.explained_variance_ratio_\n",
    "total_var = evr.sum() * 100\n",
    "cumsum_evr = np.cumsum(evr)\n",
    "\n",
    "trace1 = {\n",
    "    \"name\": \"individual explained variance\", \n",
    "    \"type\": \"bar\", \n",
    "    'y':evr}\n",
    "trace2 = {\n",
    "    \"name\": \"cumulative explained variance\", \n",
    "    \"type\": \"scatter\", \n",
    "     'y':cumsum_evr}\n",
    "data = [trace1, trace2]\n",
    "layout = {\n",
    "    \"xaxis\": {\"title\": \"Principal components\"}, \n",
    "    \"yaxis\": {\"title\": \"Explained variance ratio\"},\n",
    "  }\n",
    "fig = go.Figure(data=data, layout=layout)\n",
    "fig.update_layout(     title='Explained Variance Using {} Dimensions'.format(N_COMPONENTS))\n",
    "fig.show()\n"
   ]
  },
  {
   "cell_type": "code",
   "execution_count": null,
   "metadata": {},
   "outputs": [],
   "source": [
    "unsampled_data=pd.concat([data_sampled,pd.DataFrame(pc_matrix,columns=['PC-{}'.format(i) for i in range(0,N_COMPONENTS)])],axis=1)"
   ]
  },
  {
   "cell_type": "code",
   "execution_count": null,
   "metadata": {},
   "outputs": [],
   "source": [
    "fig = ex.scatter_matrix(\n",
    "    data_sampled_2[['PC-{}'.format(i) for i in range(0,N_COMPONENTS)]].values,\n",
    "    color=unsampled_data.Credit_Limit,\n",
    "    dimensions=range(N_COMPONENTS),\n",
    "    labels={str(i):'PC-{}'.format(i) for i in range(0,N_COMPONENTS)},\n",
    "    title=f'Total Explained Variance: {total_var:.2f}%')\n",
    "\n",
    "fig.update_traces(diagonal_visible=False)\n",
    "fig.update_layout(\n",
    "    coloraxis_colorbar=dict(\n",
    "        title=\"Credit_Limit\",\n",
    "    ),\n",
    ")\n",
    "fig.show()"
   ]
  },
  {
   "cell_type": "markdown",
   "metadata": {},
   "source": [
    "## Model Selection"
   ]
  },
  {
   "cell_type": "code",
   "execution_count": null,
   "metadata": {},
   "outputs": [],
   "source": [
    "X_features = ['Total_Trans_Ct','PC-3','PC-1','PC-0','PC-2','Total_Ct_Chng_Q4_Q1','Total_Relationship_Count']\n",
    "\n",
    "X = unsampled_data[X_features]\n",
    "y = unsampled_data['Churn']\n",
    "\n",
    "train_x,test_x,train_y,test_y = train_test_split(X,y,test_size=1/3,random_state=42)"
   ]
  },
  {
   "cell_type": "markdown",
   "metadata": {},
   "source": [
    "## Cross Validation"
   ]
  },
  {
   "cell_type": "code",
   "execution_count": null,
   "metadata": {},
   "outputs": [],
   "source": [
    "rf_pipe = Pipeline(steps =[ ('scale',StandardScaler()), (\"RF\",RandomForestClassifier(random_state=42)) ])\n",
    "ada_pipe = Pipeline(steps =[ ('scale',StandardScaler()), (\"RF\",AdaBoostClassifier(random_state=42,learning_rate=0.7)) ])\n",
    "svm_pipe = Pipeline(steps =[ ('scale',StandardScaler()), (\"RF\",SVC(random_state=42,kernel='rbf')) ])\n",
    "\n",
    "\n",
    "f1_cross_val_scores = cross_val_score(rf_pipe,train_x,train_y,cv=2,scoring='f1')\n",
    "ada_f1_cross_val_scores=cross_val_score(ada_pipe,train_x,train_y,cv=2,scoring='f1')\n",
    "svm_f1_cross_val_scores=cross_val_score(svm_pipe,train_x,train_y,cv=2,scoring='f1')"
   ]
  },
  {
   "cell_type": "markdown",
   "metadata": {},
   "source": [
    "## Model Evaluation"
   ]
  },
  {
   "cell_type": "code",
   "execution_count": null,
   "metadata": {},
   "outputs": [],
   "source": [
    "rf_pipe.fit(train_x,train_y)\n",
    "rf_prediction = rf_pipe.predict(test_x)\n",
    "\n",
    "ada_pipe.fit(train_x,train_y)\n",
    "ada_prediction = ada_pipe.predict(test_x)\n",
    "\n",
    "svm_pipe.fit(train_x,train_y)\n",
    "svm_prediction = svm_pipe.predict(test_x)"
   ]
  },
  {
   "cell_type": "code",
   "execution_count": null,
   "metadata": {},
   "outputs": [],
   "source": [
    "fig = go.Figure(data=[go.Table(header=dict(values=['<b>Model<b>', '<b>F1 Score On Test Data<b>'],\n",
    "                                           line_color='darkslategray',\n",
    "    fill_color='whitesmoke',\n",
    "    align=['center','center'],\n",
    "    font=dict(color='black', size=18),\n",
    "    height=40),cells=dict(values=[['<b>Random Forest<b>', '<b>AdaBoost<b>','<b>SVM<b>'], [np.round(f1(rf_prediction,test_y),2),np.round(f1(ada_prediction,test_y),2),np.round(f1(svm_prediction,test_y),2)]])\n",
    "\n",
    "fig.update_layout(title='Model Results On Test Data')\n",
    "fig.show()"
   ]
  },
  {
   "cell_type": "code",
   "execution_count": null,
   "metadata": {},
   "outputs": [],
   "source": [
    "z=confusion_matrix(unsampled_data_prediction_RF,original_df_with_pcs['Attrition_Flag'])\n",
    "fig = ff.create_annotated_heatmap(z, x=['Not Churn','Churn'], y=['Predicted Not Churn','Predicted Churn'], colorscale='Fall',xgap=3,ygap=3)\n",
    "fig['data'][0]['showscale'] = True\n",
    "fig.update_layout(title='Prediction On Original Data With Random Forest Model Confusion Matrix')\n",
    "fig.show()"
   ]
  }
 ],
 "metadata": {
  "kernelspec": {
   "display_name": "Python 3",
   "language": "python",
   "name": "python3"
  },
  "language_info": {
   "codemirror_mode": {
    "name": "ipython",
    "version": 3
   },
   "file_extension": ".py",
   "mimetype": "text/x-python",
   "name": "python",
   "nbconvert_exporter": "python",
   "pygments_lexer": "ipython3",
   "version": "3.7.6"
  }
 },
 "nbformat": 4,
 "nbformat_minor": 4
}
